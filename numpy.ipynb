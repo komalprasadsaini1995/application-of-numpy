{
 "cells": [
  {
   "cell_type": "markdown",
   "id": "0dac81b6-4a22-429b-9efa-bb95b363f56c",
   "metadata": {},
   "source": [
    "1. Customer Orders Analysis"
   ]
  },
  {
   "cell_type": "code",
   "execution_count": 1,
   "id": "dacabffd-842c-4a87-9cdc-32950fce3bad",
   "metadata": {},
   "outputs": [
    {
     "name": "stdout",
     "output_type": "stream",
     "text": [
      "Day 18 had the highest number of orders: 33\n"
     ]
    }
   ],
   "source": [
    "import numpy as np\n",
    "\n",
    "orders = [12, 17, 20, 25, 30, 18, 23, 12, 15, 19, 17, 21, 25, 27, 30, 22, 28, 33, 24, 26, 28, 25, 24, 29, 30, 27, 26, 22, 23, 29]\n",
    "\n",
    "orders_array = np.array(orders)\n",
    "max_day = np.argmax(orders_array) + 1  # Adding 1 since days start at 1\n",
    "max_orders = orders_array.max()\n",
    "\n",
    "print(f\"Day {max_day} had the highest number of orders: {max_orders}\")"
   ]
  },
  {
   "cell_type": "markdown",
   "id": "c52e87c2-d4d8-40eb-9cba-e8fdf8ae27ec",
   "metadata": {},
   "source": [
    "2. Sales Data Reshaping"
   ]
  },
  {
   "cell_type": "code",
   "execution_count": 2,
   "id": "46d6b70b-3aca-482f-bb7d-29c11a6abb69",
   "metadata": {},
   "outputs": [
    {
     "name": "stdout",
     "output_type": "stream",
     "text": [
      "Reshaped sales data (4 weeks x 5 days):\n",
      "[[ 150  200  250  300  350]\n",
      " [ 400  450  500  550  600]\n",
      " [ 650  700  750  800  850]\n",
      " [ 900  950 1000 1050 1100]]\n"
     ]
    }
   ],
   "source": [
    "sales = np.array([150, 200, 250, 300, 350, 400, 450, 500, 550, 600, 650, 700, 750, 800, 850, 900, 950, 1000, 1050, 1100])\n",
    "reshaped_sales = sales.reshape(4, 5)\n",
    "print(\"Reshaped sales data (4 weeks x 5 days):\")\n",
    "print(reshaped_sales)"
   ]
  },
  {
   "cell_type": "markdown",
   "id": "0d4b1e29-f404-490c-b781-1170096f52cd",
   "metadata": {},
   "source": [
    "3. Temperature Data Transformation"
   ]
  },
  {
   "cell_type": "code",
   "execution_count": 3,
   "id": "e425a975-4246-4a5b-aae2-637420b056ed",
   "metadata": {},
   "outputs": [
    {
     "name": "stdout",
     "output_type": "stream",
     "text": [
      "\n",
      "Temperature data by day (7 days x 24 hours):\n",
      "[[33 26 21 33 31 25 23 23 26 30 25 21 23 33 26 28 21 29 33 31 33 26 22 22]\n",
      " [22 23 26 28 32 20 27 32 27 34 25 23 29 28 29 27 20 28 30 25 31 30 28 29]\n",
      " [24 25 33 25 27 32 34 34 33 34 34 29 20 27 22 24 33 29 27 30 20 28 32 27]\n",
      " [22 29 27 27 25 33 25 31 21 30 28 27 31 26 32 21 30 20 21 29 31 33 33 20]\n",
      " [21 31 29 29 24 31 29 23 29 25 21 25 27 23 26 33 27 24 27 29 21 31 31 32]\n",
      " [27 29 31 33 26 26 25 22 28 28 30 23 32 28 26 21 23 28 23 25 25 25 30 34]\n",
      " [24 20 27 34 33 34 33 33 28 32 26 21 30 27 31 30 26 29 28 21 26 32 31 28]]\n"
     ]
    }
   ],
   "source": [
    "temperatures = np.random.randint(20, 35, 168)  # 7 days, 24 hours each\n",
    "daily_temps = temperatures.reshape(7, 24)\n",
    "print(\"\\nTemperature data by day (7 days x 24 hours):\")\n",
    "print(daily_temps)"
   ]
  },
  {
   "cell_type": "markdown",
   "id": "87dc6bb4-d6ae-4c8f-9f35-459fd41b6001",
   "metadata": {},
   "source": [
    "4. Product Inventory Management"
   ]
  },
  {
   "cell_type": "code",
   "execution_count": 4,
   "id": "f4930954-d96c-4340-bed3-b3a85085af7e",
   "metadata": {},
   "outputs": [
    {
     "name": "stdout",
     "output_type": "stream",
     "text": [
      "\n",
      "Resized inventory (6 rows x 4 columns):\n",
      "[[26 31 87 13]\n",
      " [37 71 15 52]\n",
      " [30  7  3 63]\n",
      " [86 30 96 92]\n",
      " [39 88 99 33]\n",
      " [73 38 89 28]]\n"
     ]
    }
   ],
   "source": [
    "inventory = np.random.randint(1, 100, 24)  # 24 products\n",
    "new_inventory = inventory.reshape(6, 4)\n",
    "print(\"\\nResized inventory (6 rows x 4 columns):\")\n",
    "print(new_inventory)"
   ]
  },
  {
   "cell_type": "markdown",
   "id": "fa9082fa-bfa1-4933-9438-186796573130",
   "metadata": {},
   "source": [
    "5. Marketing Campaign Analysis"
   ]
  },
  {
   "cell_type": "code",
   "execution_count": 5,
   "id": "612964f1-fc09-473c-b415-0a78bbccd2c2",
   "metadata": {},
   "outputs": [
    {
     "name": "stdout",
     "output_type": "stream",
     "text": [
      "\n",
      "Total positive responses across all regions: 2012\n"
     ]
    }
   ],
   "source": [
    "responses = np.random.randint(50, 200, (5, 3))  # 5 regions, 3 campaigns each\n",
    "total_responses = responses.sum()\n",
    "print(f\"\\nTotal positive responses across all regions: {total_responses}\")"
   ]
  },
  {
   "cell_type": "markdown",
   "id": "1d256ae7-66ed-47a6-98ac-ec9d60a7bdb2",
   "metadata": {},
   "source": [
    "6. Website Traffic Analysis"
   ]
  },
  {
   "cell_type": "code",
   "execution_count": 6,
   "id": "217695e8-d33d-4f29-8de9-51f1ec38392f",
   "metadata": {},
   "outputs": [
    {
     "name": "stdout",
     "output_type": "stream",
     "text": [
      "\n",
      "Website traffic by day (7 days x 24 hours):\n",
      "[[125 343 202 333 398 217 350 334 165 329 151 298 159 366 415 482 246 180\n",
      "  473 319 459 315 459 294]\n",
      " [122 245 482 312 358 163 126 414 206 385 241 413 167 442 381 423 136 361\n",
      "  470 306 377 185 151 432]\n",
      " [481 330 199 137 376 114 338 274 292 299 156 391 320 169 413 250 105 313\n",
      "  173 137 365 223 269 463]\n",
      " [339 292 476 115 217 307 394 395 302 419 148 241 179 417 472 413 252 215\n",
      "  397 415 414 332 241 132]\n",
      " [449 225 311 488 353 394 424 406 346 426 467 282 403 458 160 407 489 463\n",
      "  255 180 498 430 342 283]\n",
      " [193 399 399 131 426 296 463 326 456 473 369 420 290 334 395 295 244 374\n",
      "  159 186 192 328 354 226]\n",
      " [189 109 450 197 196 194 458 228 277 160 410 226 367 339 445 434 427 357\n",
      "  338 453 450 175 399 198]]\n"
     ]
    }
   ],
   "source": [
    "traffic_data = np.random.randint(100, 500, 168)  # 7 days, 24 hours each\n",
    "daily_traffic = traffic_data.reshape(7, 24)\n",
    "print(\"\\nWebsite traffic by day (7 days x 24 hours):\")\n",
    "print(daily_traffic)"
   ]
  },
  {
   "cell_type": "markdown",
   "id": "c2796d80-1d09-4b5d-aab2-9ac1618c2784",
   "metadata": {},
   "source": [
    "7. Financial Data Normalization"
   ]
  },
  {
   "cell_type": "code",
   "execution_count": 7,
   "id": "5aa9830b-ead4-4a3d-afa8-9084691b5fd2",
   "metadata": {},
   "outputs": [
    {
     "name": "stdout",
     "output_type": "stream",
     "text": [
      "\n",
      "Normalized stock prices:\n",
      "[0.83695652 0.42391304 0.70652174 0.55434783 0.13043478 0.86956522\n",
      " 0.69565217 0.51086957 0.         0.16304348 0.36956522 0.27173913\n",
      " 0.43478261 0.52173913 0.02173913 0.02173913 0.69565217 0.\n",
      " 0.40217391 0.48913043 0.82608696 0.67391304 0.06521739 0.5\n",
      " 0.47826087 0.23913043 0.91304348 0.81521739 1.         0.72826087]\n"
     ]
    }
   ],
   "source": [
    "stock_prices = np.random.randint(100, 200, 30)  # 30 days\n",
    "normalized_prices = (stock_prices - stock_prices.min()) / (stock_prices.max() - stock_prices.min())\n",
    "print(\"\\nNormalized stock prices:\")\n",
    "print(normalized_prices)"
   ]
  },
  {
   "cell_type": "markdown",
   "id": "405f457a-396d-44ac-932e-30ef78f5c14f",
   "metadata": {},
   "source": [
    "8. Customer Satisfaction Survey"
   ]
  },
  {
   "cell_type": "code",
   "execution_count": 8,
   "id": "96f65ef4-4e35-4494-83f5-42e95d8b9bc3",
   "metadata": {},
   "outputs": [
    {
     "name": "stdout",
     "output_type": "stream",
     "text": [
      "\n",
      "Survey results by product (10 products x 5 responses):\n",
      "[[2 1 1 1 4]\n",
      " [3 3 2 4 4]\n",
      " [2 5 3 2 5]\n",
      " [2 4 3 2 5]\n",
      " [1 4 2 5 5]\n",
      " [1 5 3 3 2]\n",
      " [2 3 3 5 2]\n",
      " [1 4 1 4 5]\n",
      " [1 5 2 1 3]\n",
      " [3 3 3 1 2]]\n"
     ]
    }
   ],
   "source": [
    "survey_results = np.random.randint(1, 6, 50)  # 10 products, 5 responses each\n",
    "product_surveys = survey_results.reshape(10, 5)\n",
    "print(\"\\nSurvey results by product (10 products x 5 responses):\")\n",
    "print(product_surveys)"
   ]
  },
  {
   "cell_type": "markdown",
   "id": "12feb393-ec2a-44d3-a70c-be2f527b14e7",
   "metadata": {},
   "source": [
    "\n",
    "9. E-commerce Data Analysis"
   ]
  },
  {
   "cell_type": "code",
   "execution_count": 9,
   "id": "b2a7639f-3ff5-4ed2-8018-14d2b5304954",
   "metadata": {},
   "outputs": [
    {
     "name": "stdout",
     "output_type": "stream",
     "text": [
      "\n",
      "Total sales by product category:\n",
      "Category 1: 341745\n",
      "Category 2: 338347\n",
      "Category 3: 294939\n"
     ]
    }
   ],
   "source": [
    "sales_data = np.random.randint(1000, 10000, (3, 5, 12))  # 3 categories, 5 products each, 12 months\n",
    "category_totals = sales_data.sum(axis=(1, 2))\n",
    "print(\"\\nTotal sales by product category:\")\n",
    "for i, total in enumerate(category_totals):\n",
    "    print(f\"Category {i+1}: {total}\")"
   ]
  },
  {
   "cell_type": "markdown",
   "id": "30c2ac31-c867-441d-a57c-8a45bc436f42",
   "metadata": {},
   "source": [
    "10. Climate Data Analysis"
   ]
  },
  {
   "cell_type": "code",
   "execution_count": 10,
   "id": "9afbfd81-64f5-4350-8307-5f2376210157",
   "metadata": {},
   "outputs": [
    {
     "name": "stdout",
     "output_type": "stream",
     "text": [
      "\n",
      "Average temperature by region:\n",
      "Region 1: 12.39°C\n",
      "Region 2: 12.34°C\n",
      "Region 3: 11.43°C\n",
      "Region 4: 12.50°C\n"
     ]
    }
   ],
   "source": [
    "climate_data = np.random.randint(-10, 35, (4, 30, 12))  # 4 regions, 30 days, 12 months\n",
    "region_avg = climate_data.mean(axis=(1, 2))\n",
    "print(\"\\nAverage temperature by region:\")\n",
    "for i, avg in enumerate(region_avg):\n",
    "    print(f\"Region {i+1}: {avg:.2f}°C\")"
   ]
  },
  {
   "cell_type": "code",
   "execution_count": null,
   "id": "fe087daf-f0aa-4196-9622-d2d09c969b86",
   "metadata": {},
   "outputs": [],
   "source": []
  }
 ],
 "metadata": {
  "kernelspec": {
   "display_name": "Python 3 (ipykernel)",
   "language": "python",
   "name": "python3"
  },
  "language_info": {
   "codemirror_mode": {
    "name": "ipython",
    "version": 3
   },
   "file_extension": ".py",
   "mimetype": "text/x-python",
   "name": "python",
   "nbconvert_exporter": "python",
   "pygments_lexer": "ipython3",
   "version": "3.12.7"
  }
 },
 "nbformat": 4,
 "nbformat_minor": 5
}
